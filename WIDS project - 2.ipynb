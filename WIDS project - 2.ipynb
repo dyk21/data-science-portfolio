{
 "cells": [
  {
   "cell_type": "markdown",
   "metadata": {},
   "source": [
    "# Introduction\n",
    "The original project was done locally in a python notebook.  To improve upon this, I decided to move the project to google cloud.  \n",
    "\n",
    "First, I loaded the data from my computer to Google Cloud Storage, then to Bigquery, and finally to Datalab.  Datalab is built upon the python notebook and has many scientific libraries preinstalled.\n",
    "\n",
    "There were both advantages and disadvantages of doing the project on google cloud.  The code that I used to fill in the missing values in my numeric columns gave me an error on the cloud while it worked fine locally.  I changed the code to fix this error, however the changes altered the results.  The accuracy of the Logistic Regression increased, while the Adaboost decreased.\n",
    "\n",
    "On the other hand, there was a massive improvement in speed going to the cloud.  When I ran this code locally, it took me around 4 hours.  But when I ran it on the cloud, it would finish in under an hour.\n"
   ]
  },
  {
   "cell_type": "code",
   "execution_count": 7,
   "metadata": {},
   "outputs": [
    {
     "name": "stdout",
     "output_type": "stream",
     "text": [
      "Logistic Regression: 0.8824979457682827\n",
      "Random Forest: 0.8567515749109833\n",
      "Gradient Boosting: 0.8742810188989318\n",
      "AdaBoost: 0.8937277458230621\n"
     ]
    },
    {
     "data": {
      "image/png": "[encoded data removed]",
      "text/plain": [
       "<matplotlib.figure.Figure at 0x7f5a7b0e9208>"
      ]
     },
     "metadata": {},
     "output_type": "display_data"
    }
   ],
   "source": [
    "import google.datalab.bigquery as bq\n",
    "import pandas as pd\n",
    "import numpy as np\n",
    "\n",
    "from sklearn.ensemble import AdaBoostClassifier, GradientBoostingClassifier, RandomForestClassifier, ExtraTreesClassifier\n",
    "from sklearn.metrics import accuracy_score\n",
    "from sklearn.model_selection import train_test_split\n",
    "from sklearn.tree import DecisionTreeClassifier\n",
    "from sklearn import linear_model\n",
    "import matplotlib.pyplot as plt\n",
    "import seaborn as sn\n",
    "\n",
    "query_data = bq.Query('SELECT * FROM `widstrain1.train1`')\n",
    "df = query_data.execute(output_options=bq.QueryOutput.dataframe()).result()\n",
    "\n",
    "Y = df['is_female']\n",
    "X = df.drop(['is_female','train_id'], axis = 1)\n",
    "X = X.dropna(axis=1, thresh=20) \n",
    "\n",
    "categoricColumns = X.columns.tolist()\n",
    "numericColumns = []\n",
    "\n",
    "for i in categoricColumns:\n",
    "    if (\"MT17_\" in i or \"FF16_\" in i or \"MM5_\" in i or \"FF9\" in i\n",
    "         or \"MM8_\" in i or \"MM9_\" in i or \"MM17_\" in i or \"MM32_\" in i\n",
    "         or \"MM42_\" in i or \"MMP2_\" in i or \"MMP4_\" in i or \"IFI4_\" in i\n",
    "         or \"IFI2_\" in i or \"IFI14_\" in i or \"IFI15_\" in i or \"IFI17_\" in i\n",
    "         or \"FL3\" in i or \"FL8_\" in i or \"LN1A\" in i or \"LN1B\" in i\n",
    "         or \"LN2_1\" in i or \"LN2_2\" in i or \"LN2_3\" in i or \"LN2_4\" in i):\n",
    "        numericColumns.append(i)\n",
    "        categoricColumns.remove(i)\n",
    "\n",
    "for i in numericColumns:\n",
    "    median = X[i].median()\n",
    "    X[i] = X[i].fillna(median) \n",
    "\n",
    "for i in categoricColumns:\n",
    "    X[i] = X[i].fillna(0) \n",
    "    X = pd.get_dummies(X, columns=[i])\n",
    "    \n",
    "# Split the data into training and testing sets\n",
    "X_train, X_test, y_train, y_test = train_test_split(X,Y, test_size = 0.2, random_state = 0)\n",
    "\n",
    "# Logistic Regression\n",
    "LogReg = linear_model.LogisticRegression()\n",
    "LogReg.fit(X_train, y_train)\n",
    "y_pred = LogReg.predict(X_test)\n",
    "print('Logistic Regression: '+str(accuracy_score(y_test, y_pred)))\n",
    "\n",
    "# Random Forest\n",
    "clf = RandomForestClassifier(n_jobs=2, random_state=1)\n",
    "clf.fit(X_train, y_train)\n",
    "y_pred = clf.predict(X_test)\n",
    "print('Random Forest: '+str(accuracy_score(y_test, y_pred)))\n",
    "\n",
    "# Gradient Boosting\n",
    "clf = GradientBoostingClassifier(n_estimators=5000,\n",
    "                                 learning_rate=0.5,\n",
    "                                 max_depth=None, \n",
    "                                 random_state=0)\n",
    "clf.fit(X_train, y_train)\n",
    "y_pred = clf.predict(X_test)\n",
    "print('Gradient Boosting: '+str(accuracy_score(y_test, y_pred)))\n",
    "\n",
    "# AdaBoost\n",
    "clf = AdaBoostClassifier(DecisionTreeClassifier(max_depth=3),\n",
    "                         algorithm=\"SAMME\",\n",
    "                         n_estimators=1000,\n",
    "                         learning_rate=1)\n",
    "clf.fit(X_train, y_train)\n",
    "y_pred = clf.predict(X_test)\n",
    "print('AdaBoost: '+str(accuracy_score(y_test, y_pred)))\n",
    "\n",
    "# Feature importance\n",
    "model = ExtraTreesClassifier()\n",
    "model.fit(X, Y)\n",
    "\n",
    "# display the relative importance of each attribute\n",
    "impDf = pd.DataFrame(X.columns)\n",
    "impDf = impDf.rename(columns={0: 'Features'})\n",
    "impDf['Importance'] = model.feature_importances_\n",
    "impDf = impDf.sort_values('Importance')\n",
    "sn.barplot(x='Features', y='Importance', data=impDf[-5:])\n",
    "plt.show()"
   ]
  },
  {
   "cell_type": "markdown",
   "metadata": {
    "collapsed": true
   },
   "source": [
    "## Conclusion\n",
    "In order to determine which factors were most impactful in predicting genders, I used feature importance based on decision trees.  Here, the model creates decision trees with and without each feature.  Important factors will have a greater loss in accuracy when taken away from the decision tree, so larger importance values mean greater impact in predicting genders.\n",
    "\n",
    "Looking at the importance chart, our top 5 factors are all categoric.  We created dummy variables for our categoric factors. \n",
    "For example, DG6 has 9 categoric values, so there will be dummy columns created for each of the 9 values (from DG6_1 to DG6_9).  DG6_1 will consist of 1’s when the row matches the first categoric value and 0’s for everything else.  The \"DG6\" refers to the question while the \"1\" refers to the answer.\n",
    "\n",
    "DL0_1 and DL0_2 suggests that the main income earner in the household tend to be men, while someone who isn’t the main income earner tends to be women.\n",
    "\n",
    "DG6_1 and DG6_2 suggests that respondents that are the head of the household tend to be men while respondents that are the spouse of the head of the household tend to be women.\n",
    "\n",
    "MT6_1 suggests that respondents who obtained their own phone by themselves tend to be men.\n"
   ]
  }
 ],
 "metadata": {
  "kernelspec": {
   "display_name": "Python 3",
   "language": "python",
   "name": "python3"
  },
  "language_info": {
   "codemirror_mode": {
    "name": "ipython",
    "version": 3
   },
   "file_extension": ".py",
   "mimetype": "text/x-python",
   "name": "python",
   "nbconvert_exporter": "python",
   "pygments_lexer": "ipython3",
   "version": "3.6.3"
  }
 },
 "nbformat": 4,
 "nbformat_minor": 2
}
